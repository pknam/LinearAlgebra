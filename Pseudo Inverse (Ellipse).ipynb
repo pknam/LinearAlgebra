{
 "cells": [
  {
   "cell_type": "markdown",
   "metadata": {},
   "source": [
    "# Rotated Ellipse Reconstruction"
   ]
  },
  {
   "cell_type": "code",
   "execution_count": 10,
   "metadata": {
    "collapsed": true
   },
   "outputs": [],
   "source": [
    "%matplotlib inline\n",
    "import numpy as np\n",
    "import matplotlib.pyplot as plt"
   ]
  },
  {
   "cell_type": "code",
   "execution_count": 11,
   "metadata": {
    "collapsed": true
   },
   "outputs": [],
   "source": [
    "dataSize = 200\n",
    "\n",
    "theta = np.random.rand(dataSize) * 2 * np.pi\n",
    "rx = np.random.normal(3, 0.1, dataSize)\n",
    "ry = np.random.normal(6, 0.1, dataSize)\n",
    "\n",
    "# generate points close to a ellipse\n",
    "x = rx * np.cos(theta)\n",
    "y = ry * np.sin(theta)\n",
    "\n",
    "# rotate pi/6\n",
    "rotAngle = np.pi / 6\n",
    "rot = np.array([\n",
    "    [np.cos(rotAngle), -np.sin(rotAngle)],\n",
    "    [np.sin(rotAngle), np.cos(rotAngle)]\n",
    "])\n",
    "\n",
    "x, y = np.dot(rot, np.array([x, y]))\n",
    "\n",
    "# center : (3, 5)\n",
    "x += 3\n",
    "y += 5"
   ]
  },
  {
   "cell_type": "code",
   "execution_count": 12,
   "metadata": {
    "collapsed": false
   },
   "outputs": [
    {
     "data": {
      "image/png": "[encoded data removed]",
      "text/plain": [
       "<matplotlib.figure.Figure at 0x7fc7d53f5f28>"
      ]
     },
     "metadata": {},
     "output_type": "display_data"
    }
   ],
   "source": [
    "plt.plot(x, y, 'k+')\n",
    "plt.axis('equal')\n",
    "plt.show()"
   ]
  },
  {
   "cell_type": "code",
   "execution_count": 13,
   "metadata": {
    "collapsed": true
   },
   "outputs": [],
   "source": [
    "# modeling\n",
    "# x^2 + a*y^2 + b*x + c*y + d*x*y + e = 0\n",
    "mat = np.zeros((dataSize, 5))\n",
    "mat[:, 0] = y * y\n",
    "mat[:, 1] = x\n",
    "mat[:, 2] = y\n",
    "mat[:, 3] = x * y\n",
    "mat[:, 4] = 1\n",
    "\n",
    "const = -(x * x)\n",
    "const = const.reshape((dataSize, 1))"
   ]
  },
  {
   "cell_type": "code",
   "execution_count": 14,
   "metadata": {
    "collapsed": true
   },
   "outputs": [],
   "source": [
    "pseudo_inv = np.linalg.pinv(mat)\n",
    "a, b, c, d, e = np.dot(pseudo_inv, const)"
   ]
  },
  {
   "cell_type": "code",
   "execution_count": 15,
   "metadata": {
    "collapsed": false
   },
   "outputs": [
    {
     "data": {
      "text/plain": [
       "(-1.0012913569360391,\n",
       " 7.081870621365657,\n",
       " -0.48624511330954689,\n",
       " 10.530006632624858)"
      ]
     },
     "execution_count": 15,
     "metadata": {},
     "output_type": "execute_result"
    },
    {
     "data": {
      "image/png": "[encoded data removed]",
      "text/plain": [
       "<matplotlib.figure.Figure at 0x7fc7d339be80>"
      ]
     },
     "metadata": {},
     "output_type": "display_data"
    }
   ],
   "source": [
    "xx = np.linspace(min(x), max(x), 1000)\n",
    "yy = np.linspace(min(y), max(y), 1000)\n",
    "[X, Y] = np.meshgrid(xx, yy)\n",
    "Z = X*X + a*Y*Y + b*X + c*Y + d*X*Y + e\n",
    "\n",
    "ax = plt.gca()\n",
    "ax.cla()\n",
    "ax.plot(x, y, 'k+')\n",
    "ax.contour(X, Y, Z, [0], color='r')\n",
    "ax.axis('equal')"
   ]
  },
  {
   "cell_type": "code",
   "execution_count": null,
   "metadata": {
    "collapsed": true
   },
   "outputs": [],
   "source": []
  }
 ],
 "metadata": {
  "kernelspec": {
   "display_name": "Python 3",
   "language": "python",
   "name": "python3"
  },
  "language_info": {
   "codemirror_mode": {
    "name": "ipython",
    "version": 3
   },
   "file_extension": ".py",
   "mimetype": "text/x-python",
   "name": "python",
   "nbconvert_exporter": "python",
   "pygments_lexer": "ipython3",
   "version": "3.5.2"
  }
 },
 "nbformat": 4,
 "nbformat_minor": 2
}
